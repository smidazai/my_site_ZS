{
  "cells": [
    {
      "cell_type": "raw",
      "metadata": {},
      "source": [
        "---\n",
        "title: \"Research\"\n",
        "toc: false\n",
        "editor: visual\n",
        "---"
      ],
      "id": "411f844f"
    },
    {
      "cell_type": "markdown",
      "metadata": {},
      "source": [
        "## Research interests \n",
        "\n",
        "### Nonparametric tests for functional data\n",
        " \n",
        "```{columns}\n",
        "---\n",
        "layout: split\n",
        "col1:\n",
        "  content: |\n",
        "    ![Surus](ma_photo.jpg)\n",
        "col2:\n",
        "  content: |\n",
        "    ![Hanno](ma_photo.jpg)\n",
        "\n",
        " \n",
        "### Scan statistics for cluster detection : \n",
        "\n",
        "\n",
        "\n",
        "\n",
        "\n",
        "\n",
        "\n",
        "\n",
        "## Ph. D Thesis\n",
        "**Z. Smida**. Comparison tests of two populations and spatial scan statistics for functional data. [Institut Montpelliérain Alexander Grothendieck (IMAG)](https://imag.umontpellier.fr/#:~:text=L'Institut%20Montpelli%C3%A9rain%20Alexander%20Grothendieck,de%20l'Universit%C3%A9%20de%20Montpellier.), University of Montpellier. [Link](https://theses.hal.science/tel-04604008)\n",
        "\n",
        "\n",
        "\n",
        "## Publications\n",
        "\n",
        "**Z. Smida**, L. Cucala, A. Gannoun, G. Durif (2021). A Wilcoxon-Mann-Whitney spatial scan statistic for functional data. *Computational Statistics and Data Analysis*. [Link](https://www.sciencedirect.com/science/article/abs/pii/S0167947321002127?via%3Dihub)\n",
        "\n",
        "**Z. Smida**, L. Cucala, A. Gannoun, G. Durif (2022). A median test for functional data. *Journal of Nonparametric Statistics*. [Link](https://www.tandfonline.com/doi/full/10.1080/10485252.2022.2064997)\n",
        "\n",
        "C. Frévent, A. Mohamed-Salem, J. Soula, **Z. Smida**, L. Cucala, S. Dabo-Niang, M. Genin (2023). The R Package HDSpatialScan for the Detection of Clusters of Multivariate and Functional Data using Spatial Scan Statistics. *The R Journal*. [Link](https://www.researchgate.net/publication/366849808_The_R_Package_HDSpatialScan_for_the_Detection_of_Clusters_of_Multivariate_and_Functional_Data_using_Spatial_Scan_Statistics)\n",
        "\n",
        "**Z. Smida**, G. Durif, L. Cucala (2023). The R package funStatTest : Statistical Testing for Functional Data. [Link](https://cloud.r-project.org/web/packages/funStatTest/index.html)\n",
        "\n",
        "## On going works\n",
        "\n",
        "[M. Berrada](https://www.researchgate.net/profile/Mehdi-Berrada), **Z. Smida**, [C. Thomas-Agnan](https://www.tse-fr.eu/fr/people/christine-thomas-agnan) (2023+). *Comparing mass concentrations of two marked point processes. Applications to veterinary shortage*.\n",
        "\n",
        "[A. Archimbaud](https://aurore-archimbaud.netlify.app/about/), **Z. Smida**, [A. Ruiz-Gazen](https://www.tse-fr.eu/fr/people/anne-ruiz-gazen) (2023+). *A multivariate test of unimodality*.\n",
        "\n",
        "# Software\n",
        "\n",
        "-   *HDSpatialScan R package*\n",
        "\n",
        "-   *funStatTest R package*"
      ],
      "id": "6278e4c8"
    }
  ],
  "metadata": {
    "kernelspec": {
      "name": "python3",
      "language": "python",
      "display_name": "Python 3 (ipykernel)"
    }
  },
  "nbformat": 4,
  "nbformat_minor": 5
}